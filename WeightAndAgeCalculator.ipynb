{
 "cells": [
  {
   "cell_type": "code",
   "execution_count": 213,
   "metadata": {
    "collapsed": false
   },
   "outputs": [
    {
     "name": "stdout",
     "output_type": "stream",
     "text": [
      "Overwriting astronomy.py\n"
     ]
    }
   ],
   "source": [
    "%%writefile astronomy.py\n",
    "#!/usr/bin/env python\n",
    "# -*- coding: utf-8 -*-\n",
    "\n",
    "'''This small program computes the weight and the age in other planets.\n",
    "Also, it gives some cool details about each one. Working on receiving the date of birth and computing\n",
    "not only the age but also the ephemerids on that day in any planet.\n",
    "Created by: Andrea Guzman Mesa\n",
    "As part of the Course: Programming Skills for Astrophysics\n",
    "21/01/2017\n",
    "\n",
    "This is actually my 4th trial! But I'm improving!\n",
    "'''\n",
    "\n",
    "import numpy as np\n",
    "import matplotlib.pyplot as plt\n",
    "from astropy import units as u\n",
    "import ephem\n",
    "import wx\n",
    "\n",
    "class ExamplePanel(wx.Panel):\n",
    "    def __init__(self, parent):\n",
    "        wx.Panel.__init__(self, parent)\n",
    "        self.SetForegroundColour((0,225,0)) #Changes the Font Color\n",
    "        self.quote = wx.StaticText(self, label=\"CALCULATOR WEIGHT AND AGE ON OTHER PLANETS :\", pos=(20, 30))\n",
    "        self.font= wx.Font(10, wx.DECORATIVE, wx.ITALIC, wx.NORMAL)\n",
    "        self.quote.SetFont(self.font)  \n",
    "        self.SetBackgroundColour(wx.BLACK) #Changes the color of the Panel\n",
    "        \n",
    "        \n",
    "\n",
    "        #Initialize the Variables and define the arrays containing the factor of weight and years,\n",
    "        \n",
    "        self.pfactors=[0.4155,0.8975,1.0,0.166,0.3507,2.5374,1.0677,0.8947,0.0899 ] #Gravity Factors\n",
    "        self.pdays=[88.0, 225.0, 365.0,687.0,4307.0,10731.0,30660.0,59860.0,90520.0] #Days per year planet\n",
    "        self.pcomments=[\"Mercury is a really hot planet!\",\"Venus is beautiful but dangerous\",\"Earth is home!\",\"Mars looks amazing\",\"Jupiter is the biggest planet\",\"Saturn has lovely rings!\",\"Uranus is great\",\"Neptune is a gaseous planet\",\"Pluto is no loger a planet xD \"]\n",
    "        self.kilos=0.0\n",
    "        self.age=0.0 \n",
    "\n",
    "        self.planet_id = 0\n",
    "\n",
    "        # Text output\n",
    "        self.textout = wx.TextCtrl(self, pos=(400,20), size=(200,300), \n",
    "                                  style=wx.TE_MULTILINE | wx.TE_READONLY)\n",
    "       \n",
    "        # Submit Button\n",
    "        self.button =wx.Button(self, label=\"Submit\", pos=(200, 325))\n",
    "        self.Bind(wx.EVT_BUTTON, self.OnClick, self.button)\n",
    "        \n",
    "        # Show the label and the receives the input for the weight\n",
    "        self.lblkilos = wx.StaticText(self, label=\"Your Weight In kilos:\",pos=(20,60))\n",
    "        self.editkilos = wx.TextCtrl(self, value=\"Enter Weight\",pos=(160, 60), size=(100,-1))\n",
    "      \n",
    "        # Show the label and the receives the input for the Age\n",
    "        self.lblage = wx.StaticText(self, label=\"Your Age in Years:\",pos=(20,100))\n",
    "        self.editage = wx.TextCtrl(self, value=\"Enter your age\",pos=(160, 100), size=(100,-1))\n",
    "\n",
    "        # Radio Boxes to choose in which planet you would like to know the weight and age\n",
    "        radioList = ['Mercury', 'Venus', 'Earth', 'Mars', 'Jupiter',\n",
    "                     'Saturn', 'Uranus', 'Neptune', 'Pluto']\n",
    "        rb = wx.RadioBox(self, label=\"On which Planet ?\",pos=(20, 160), choices=radioList, majorDimension=3, style=wx.RA_SPECIFY_COLS)\n",
    "\n",
    "        self.Bind(wx.EVT_RADIOBOX, self.EvtRadioBox, rb)\n",
    "              \n",
    "\n",
    "               \n",
    "\n",
    "    #Gets from pfactors the value corresponding to the planet in radioList\n",
    "    def EvtRadioBox(self, event):\n",
    "        self.planet_id = event.GetInt()\n",
    "        print self.pfactors[self.planet_id]\n",
    "    \n",
    "    #Stores the value for weight\n",
    "    def getkilos(self):\n",
    "        self.kilos=float(self.editkilos.GetValue())\n",
    "        return self.kilos\n",
    "    \n",
    "    #Stores the value for age  \n",
    "    def getage(self):\n",
    "        self.age=float(self.editage.GetValue())\n",
    "        return self.age\n",
    "    \n",
    "    #when you submit it makes the fucntions work and output the corresponding value and print the value\n",
    "    def OnClick(self,event):\n",
    "        self.textout.Clear()\n",
    "        self.kilos = self.getkilos()\n",
    "        self.age = self.getage()\n",
    "        myoutput = self.examplefunction()\n",
    "        myoutput2= self.examplefunction1()  \n",
    "        myoutput3= self.examplefunction3()\n",
    "        myoutput4= self.examplefunction4()\n",
    "        self.textout.AppendText(\"Your weight:\"+myoutput+\"\\n\"+\"Your Age:\"+myoutput2+\"\\n \"+\"\\n \"+myoutput3+\"\\n \"+\"\\n\"+myoutput4)\n",
    "        self.font= wx.Font(15, wx.DECORATIVE, wx.NORMAL, wx.NORMAL)\n",
    "        self.textout.SetFont(self.font)\n",
    "\n",
    "    #Calculates the weight and uses the astronomy library to give the right units\n",
    "    def examplefunction(self): # kilos * times * planet_id \n",
    "        x = (self.getkilos()*self.pfactors[self.planet_id])*u.kg\n",
    "        return str(x)+\"\\n\"\n",
    "    \n",
    "    \n",
    "    #Calculates the Age and uses the astronomy library to give the right units\n",
    "    def examplefunction1(self): #Age*365/planet_id\n",
    "        y = (self.getage()*365.0/self.pdays[self.planet_id])*u.d\n",
    "        m=y.to(u.yr)\n",
    "        print m\n",
    "        return str(m)\n",
    "    \n",
    "    #Here, i would like to compute the RA and DEC of the choosen planet in the Birth's date.. working on that\n",
    "    def examplefunction4(self):\n",
    "        mars = ephem.Mars()\n",
    "        mars.compute('2008/1/1')\n",
    "        a=mars.ra\n",
    "        b=mars.dec\n",
    "        print a, b\n",
    "        return str(a)+\"RA \\n\"+str(b)+\"DEC \\n\"\n",
    "\n",
    "        \n",
    "    \n",
    "    def examplefunction3(self): #comments about the planets\n",
    "        z= self.pcomments[self.planet_id]\n",
    "        return str(z)\n",
    "        \n",
    "    \n",
    "\n",
    "\n",
    "app = wx.App(False)\n",
    "frame = wx.Frame(None,size=(700,400))\n",
    "panel = ExamplePanel(frame)\n",
    "frame.Show()\n",
    "app.MainLoop()\n",
    "\n",
    "    "
   ]
  },
  {
   "cell_type": "code",
   "execution_count": 214,
   "metadata": {
    "collapsed": false
   },
   "outputs": [
    {
     "name": "stdout",
     "output_type": "stream",
     "text": [
      "0.8947\n",
      "0.0002003305454 yr\n",
      "5:59:27.35 26:56:27.4\n"
     ]
    }
   ],
   "source": [
    "!python astronomy.py"
   ]
  },
  {
   "cell_type": "code",
   "execution_count": null,
   "metadata": {
    "collapsed": true
   },
   "outputs": [],
   "source": []
  },
  {
   "cell_type": "code",
   "execution_count": null,
   "metadata": {
    "collapsed": true
   },
   "outputs": [],
   "source": []
  }
 ],
 "metadata": {
  "anaconda-cloud": {},
  "kernelspec": {
   "display_name": "Python [conda root]",
   "language": "python",
   "name": "conda-root-py"
  },
  "language_info": {
   "codemirror_mode": {
    "name": "ipython",
    "version": 2
   },
   "file_extension": ".py",
   "mimetype": "text/x-python",
   "name": "python",
   "nbconvert_exporter": "python",
   "pygments_lexer": "ipython2",
   "version": "2.7.12"
  }
 },
 "nbformat": 4,
 "nbformat_minor": 1
}
