{
 "cells": [
  {
   "cell_type": "code",
   "execution_count": 37,
   "metadata": {
    "collapsed": false
   },
   "outputs": [
    {
     "name": "stdout",
     "output_type": "stream",
     "text": [
      "0.8975\n"
     ]
    }
   ],
   "source": [
    "%%writefile FinalProject.py\n",
    "\n",
    "'''This small program computes the weight and the age in other planets\n",
    "Created by: Andrea Guzman Mesa\n",
    "As part of the Course: Programming Skills for Astrophysics\n",
    "21/01/2017\n",
    "\n",
    "This is actually my 4th trial! But I'm improving!\n",
    "'''\n",
    "\n",
    "import numpy as np\n",
    "import matplotlib.pyplot as plt\n",
    "import wx\n",
    "\n",
    "class ExamplePanel(wx.Panel):\n",
    "    def __init__(self, parent):\n",
    "        wx.Panel.__init__(self, parent)\n",
    "        self.quote = wx.StaticText(self, label=\"CALCULATOR WEIGHT AND AGE ON OTHER PLANETS :\", pos=(20, 30))\n",
    "        \n",
    "        self.pfactors=[0.4155,0.8975,1.0,0.166,0.3507,2.5374,1.0677,0.8947,0.0899 ] #Gravity Factors\n",
    "        self.pdays=[88.0, 225.0, 365.0,687.0,4307.0,10731.0,30660.0,59860.0,90520.0] #Days per year planet\n",
    "        self.kilos=0.0\n",
    "        self.age=0.0 \n",
    "\n",
    "        self.planet_id = 0\n",
    "\n",
    "        # text output\n",
    "        self.textout = wx.TextCtrl(self, pos=(400,20), size=(200,300), \n",
    "                                  style=wx.TE_MULTILINE | wx.TE_READONLY)\n",
    "       \n",
    "        # Submit Button\n",
    "        self.button =wx.Button(self, label=\"Submit\", pos=(200, 325))\n",
    "        self.Bind(wx.EVT_BUTTON, self.OnClick, self.button)\n",
    "\n",
    "        # Show the label and the receives the input for the weight\n",
    "        self.lblkilos = wx.StaticText(self, label=\"Your Weight on kilos:\",pos=(20,60))\n",
    "        self.editkilos = wx.TextCtrl(self, value=\"Enter Weight\",pos=(160, 60), size=(100,-1))\n",
    "      \n",
    "        # Show the label and the receives the input for the Age\n",
    "        self.lblage = wx.StaticText(self, label=\"Your Age in Years:\",pos=(20,100))\n",
    "        self.editage = wx.TextCtrl(self, value=\"Enter your age\",pos=(160, 100), size=(100,-1))\n",
    "\n",
    "        # Radio Boxes to choose in which planet you would like to know the weight and age\n",
    "        radioList = ['Mercury', 'Venus', 'Earth', 'Mars', 'Jupiter',\n",
    "                     'Saturn', 'Uranus', 'Neptune', 'Pluto']\n",
    "        rb = wx.RadioBox(self, label=\"On which Planet ?\",pos=(20, 160), choices=radioList, majorDimension=3, style=wx.RA_SPECIFY_COLS)\n",
    "\n",
    "        self.Bind(wx.EVT_RADIOBOX, self.EvtRadioBox, rb)\n",
    "\n",
    "\n",
    "    #Gets from pfactors the value corresponding to the planet in radioList\n",
    "    def EvtRadioBox(self, event):\n",
    "        self.planet_id = event.GetInt()\n",
    "        print self.pfactors[self.planet_id]\n",
    "    \n",
    "    #Stores the value for weight\n",
    "    def getkilos(self):\n",
    "        self.kilos=float(self.editkilos.GetValue())\n",
    "        return self.kilos\n",
    "    \n",
    "    #Stores the value for age  \n",
    "    def getage(self):\n",
    "        self.age=float(self.editage.GetValue())\n",
    "        return self.age\n",
    "    \n",
    "    #when you submit it makes the fucntions work and output the corresponding value and print the value\n",
    "    def OnClick(self,event):\n",
    "        self.textout.Clear()\n",
    "        self.kilos = self.getkilos()\n",
    "        self.age = self.getage()\n",
    "        myoutput = self.examplefunction()\n",
    "        myoutput2= self.examplefunction1()  \n",
    "        self.textout.AppendText(\"Your weight:\"+myoutput+\"\\n\"+\"Your Age(days):\"+myoutput2)\n",
    "\n",
    "    #Calculates the weight\n",
    "    def examplefunction(self): # kilos * times * planet_id \n",
    "        x = self.getkilos()*self.pfactors[self.planet_id]\n",
    "        return str(x)+\"\\n\"\n",
    "    \n",
    "    #Calculates the Age\n",
    "    def examplefunction1(self): #Age*365/planet_id\n",
    "        y = self.getage()*365.0/self.pdays[self.planet_id]\n",
    "        return str(y)\n",
    "\n",
    "\n",
    "    app = wx.App(False)\n",
    "    frame = wx.Frame(None,size=(700,400))\n",
    "    panel = ExamplePanel(frame)\n",
    "    frame.Show()\n",
    "    app.MainLoop()\n",
    "    "
   ]
  },
  {
   "cell_type": "code",
   "execution_count": null,
   "metadata": {
    "collapsed": true
   },
   "outputs": [],
   "source": []
  },
  {
   "cell_type": "code",
   "execution_count": null,
   "metadata": {
    "collapsed": true
   },
   "outputs": [],
   "source": []
  }
 ],
 "metadata": {
  "anaconda-cloud": {},
  "kernelspec": {
   "display_name": "Python [conda root]",
   "language": "python",
   "name": "conda-root-py"
  },
  "language_info": {
   "codemirror_mode": {
    "name": "ipython",
    "version": 2
   },
   "file_extension": ".py",
   "mimetype": "text/x-python",
   "name": "python",
   "nbconvert_exporter": "python",
   "pygments_lexer": "ipython2",
   "version": "2.7.12"
  }
 },
 "nbformat": 4,
 "nbformat_minor": 1
}
